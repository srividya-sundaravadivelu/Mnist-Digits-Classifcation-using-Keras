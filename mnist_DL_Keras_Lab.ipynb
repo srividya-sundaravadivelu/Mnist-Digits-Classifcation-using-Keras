{
  "cells": [
    {
      "cell_type": "markdown",
      "source": [
        "DESCRIPTION\n",
        "\n",
        "MNIST is a dataset of images with 10 classes and each image is 28*28 pixel. Build a classification model with the given dataset.\n",
        "\n",
        "Objective: Build a deep learning classification model using deep learning framework, Keras."
      ],
      "metadata": {
        "id": "ov3zKnf319KL"
      }
    },
    {
      "cell_type": "markdown",
      "source": [
        "#### Import Libraries"
      ],
      "metadata": {
        "id": "gQYZOpVu2MpO"
      }
    },
    {
      "cell_type": "code",
      "execution_count": 1,
      "metadata": {
        "id": "oPooBQwsmFFi"
      },
      "outputs": [],
      "source": [
        "import tensorflow as tf\n",
        "import numpy as np\n",
        "import pandas as pd\n",
        "import matplotlib.pyplot as plt"
      ]
    },
    {
      "cell_type": "markdown",
      "metadata": {
        "id": "zI9LLynomFFj"
      },
      "source": [
        "\n",
        "\n",
        "---\n",
        "\n"
      ]
    },
    {
      "cell_type": "code",
      "execution_count": 2,
      "metadata": {
        "colab": {
          "base_uri": "https://localhost:8080/"
        },
        "id": "FfJ2mUkgmFFj",
        "outputId": "b03d35a5-a268-4d56-92fd-235584968c7b"
      },
      "outputs": [
        {
          "output_type": "stream",
          "name": "stdout",
          "text": [
            "(60000, 28, 28)\n",
            "(60000,)\n",
            "(10000, 28, 28)\n",
            "(10000,)\n"
          ]
        }
      ],
      "source": [
        "# Load the data from keras's datasets\n",
        "# mnist dataset has 60000 images in train data and 10000 images in test data.\n",
        "# Each image is 28 * 28 pixel. The images are handwritten digits from 0 to 9, so totally 10 classes.\n",
        "# This is a multi class classification problem.\n",
        "(x_train_full, y_train_full), (x_test, y_test) = tf.keras.datasets.mnist.load_data()\n",
        "print(x_train_full.shape)\n",
        "print(y_train_full.shape)\n",
        "print(x_test.shape)\n",
        "print(y_test.shape)\n",
        "\n"
      ]
    },
    {
      "cell_type": "markdown",
      "source": [
        "Display the first image and its corresponding label."
      ],
      "metadata": {
        "id": "5KA9gJkRpyry"
      }
    },
    {
      "cell_type": "code",
      "source": [
        "# The first image is handwriiten digit \"5\" and its corresponding label is \"5\".\n",
        "plt.imshow(x_train_full[0])\n",
        "plt.show()\n",
        "print(y_train_full[0])"
      ],
      "metadata": {
        "colab": {
          "base_uri": "https://localhost:8080/",
          "height": 282
        },
        "id": "axYbsbfMpnUF",
        "outputId": "f01ff004-643f-47de-9b56-212431baeb08"
      },
      "execution_count": 3,
      "outputs": [
        {
          "output_type": "display_data",
          "data": {
            "image/png": "[encoded data removed]",
            "text/plain": [
              "<Figure size 432x288 with 1 Axes>"
            ]
          },
          "metadata": {
            "needs_background": "light"
          }
        },
        {
          "output_type": "stream",
          "name": "stdout",
          "text": [
            "5\n"
          ]
        }
      ]
    },
    {
      "cell_type": "markdown",
      "source": [
        "Next step is splitting the train data into train and validation data. We donot want to use the test data for validation, as the system will be biased. \n",
        "\n",
        "We take first 5000 records for validation and the remaining 55000 records for training."
      ],
      "metadata": {
        "id": "zSV0cP-k3R_o"
      }
    },
    {
      "cell_type": "code",
      "source": [
        "# Scale and split the training data values (X) into training and validation subsets\n",
        "x_valid, x_train = x_train_full[:5000] / 255.0, x_train_full[5000:] / 255.0\n",
        "# Split the images training class values (y), 0-9, into same training and validation subsets\n",
        "y_valid, y_train = y_train_full[:5000], y_train_full[5000:]\n",
        "# Scale all the X_test values\n",
        "X_test = x_test / 255.0"
      ],
      "metadata": {
        "id": "dGhCo8GOo8Fi"
      },
      "execution_count": 4,
      "outputs": []
    },
    {
      "cell_type": "markdown",
      "metadata": {
        "id": "QNZ-9gI9mFFk"
      },
      "source": [
        "### Print the shape of the data"
      ]
    },
    {
      "cell_type": "code",
      "execution_count": 5,
      "metadata": {
        "colab": {
          "base_uri": "https://localhost:8080/"
        },
        "id": "8XpbEV5JmFFk",
        "outputId": "19bf8811-7774-4851-f16a-e6bdd0043c56"
      },
      "outputs": [
        {
          "output_type": "stream",
          "name": "stdout",
          "text": [
            "(55000, 28, 28)\n",
            "(10000, 28, 28)\n"
          ]
        }
      ],
      "source": [
        "print(x_train.shape)\n",
        "print(x_test.shape)\n"
      ]
    },
    {
      "cell_type": "markdown",
      "metadata": {
        "id": "dnNppSzPmFFl"
      },
      "source": [
        "\n",
        "### Build the model\n",
        "Build a sequential model. The first layer flattens the input data ie.convert each input image into a 1D array.\n",
        "Since it is the first layer in the model, we specify the input_shape: this does not include the batch size, only the shape of the instances. \n",
        "\n",
        "The 2nd and 3rd layers are the hidden layers and they use activation function 'relu'. The last layer is output layer. Since its a 10 class classification model, we give \"10\" for the output layer and use softmax."
      ]
    },
    {
      "cell_type": "code",
      "execution_count": 6,
      "metadata": {
        "colab": {
          "base_uri": "https://localhost:8080/"
        },
        "id": "MaDhf3WBmFFl",
        "outputId": "d676ab15-3228-4734-fd2a-507effc9fe59"
      },
      "outputs": [
        {
          "output_type": "stream",
          "name": "stdout",
          "text": [
            "Model: \"sequential\"\n",
            "_________________________________________________________________\n",
            " Layer (type)                Output Shape              Param #   \n",
            "=================================================================\n",
            " Flatten (Flatten)           (None, 784)               0         \n",
            "                                                                 \n",
            " dense (Dense)               (None, 12)                9420      \n",
            "                                                                 \n",
            " dense_1 (Dense)             (None, 13)                169       \n",
            "                                                                 \n",
            " dense_2 (Dense)             (None, 10)                140       \n",
            "                                                                 \n",
            "=================================================================\n",
            "Total params: 9,729\n",
            "Trainable params: 9,729\n",
            "Non-trainable params: 0\n",
            "_________________________________________________________________\n"
          ]
        }
      ],
      "source": [
        "num_classes = 10 # output will be one of digits 0 to 9\n",
        "model = tf.keras.models.Sequential()\n",
        "model.add(tf.keras.layers.Flatten(input_shape=[28,28], name='Flatten'))\n",
        "model.add(tf.keras.layers.Dense(12, activation='relu'))\n",
        "model.add(tf.keras.layers.Dense(13, activation='relu'))\n",
        "model.add(tf.keras.layers.Dense(10, activation='softmax'))\n",
        "\n",
        "model.summary()"
      ]
    },
    {
      "cell_type": "markdown",
      "source": [
        "Model Summary shows the no.of layers and no.of parameters in each layer. Since first layer is input layer, the no.of parameters is 0. The second layer has 784 times 12 weights and 12 biases which adds up to 9420. \n",
        "Third layer--> 12 times 13 + 13 = 169.\n",
        " Output layer----> 13 times 10 + 10 = 140."
      ],
      "metadata": {
        "id": "IzdEoqwX6fVI"
      }
    },
    {
      "cell_type": "markdown",
      "metadata": {
        "id": "5zQbzA5KmFFl"
      },
      "source": [
        "### Compile the model\n",
        "\n",
        "After a model is created, we call compile() method to specify the loss function and the optimizer to use.\n",
        "\n",
        "We use 'sgd' (Stochastic Gradient Descent) for optimizer and sparse_categorical_crossentropy as the loss function. \n",
        "Since we are using sparse_categorical_crossentropy, the labels must be provided as integers. So, no need to one hot encode the values.\n",
        "One hot encoding is needed only for categorical_crossentropy."
      ]
    },
    {
      "cell_type": "code",
      "execution_count": 7,
      "metadata": {
        "id": "k0BCPi9emFFl"
      },
      "outputs": [],
      "source": [
        "model.compile(loss='sparse_categorical_crossentropy',\n",
        "              optimizer='sgd',\n",
        "              metrics=['accuracy'])"
      ]
    },
    {
      "cell_type": "markdown",
      "metadata": {
        "id": "CE7nPo1AmFFl"
      },
      "source": [
        "### Fit the model\n",
        "\n",
        "The model is ready to be trained. For this we call its fit() method. We pass the input features (x_train) and the target classes (y_train), epochs and validation set. "
      ]
    },
    {
      "cell_type": "code",
      "execution_count": 8,
      "metadata": {
        "colab": {
          "base_uri": "https://localhost:8080/"
        },
        "id": "y2_zaslcmFFm",
        "outputId": "1be40bf6-8f21-4742-f150-2c9e31c2786f"
      },
      "outputs": [
        {
          "output_type": "stream",
          "name": "stdout",
          "text": [
            "Epoch 1/50\n",
            "1719/1719 [==============================] - 6s 3ms/step - loss: 1.0624 - accuracy: 0.6684 - val_loss: 0.4949 - val_accuracy: 0.8614\n",
            "Epoch 2/50\n",
            "1719/1719 [==============================] - 3s 2ms/step - loss: 0.4412 - accuracy: 0.8755 - val_loss: 0.3764 - val_accuracy: 0.8946\n",
            "Epoch 3/50\n",
            "1719/1719 [==============================] - 3s 2ms/step - loss: 0.3711 - accuracy: 0.8950 - val_loss: 0.3400 - val_accuracy: 0.9026\n",
            "Epoch 4/50\n",
            "1719/1719 [==============================] - 3s 1ms/step - loss: 0.3372 - accuracy: 0.9047 - val_loss: 0.3146 - val_accuracy: 0.9112\n",
            "Epoch 5/50\n",
            "1719/1719 [==============================] - 3s 2ms/step - loss: 0.3162 - accuracy: 0.9100 - val_loss: 0.3012 - val_accuracy: 0.9160\n",
            "Epoch 6/50\n",
            "1719/1719 [==============================] - 3s 2ms/step - loss: 0.3021 - accuracy: 0.9131 - val_loss: 0.2887 - val_accuracy: 0.9200\n",
            "Epoch 7/50\n",
            "1719/1719 [==============================] - 3s 1ms/step - loss: 0.2905 - accuracy: 0.9163 - val_loss: 0.2793 - val_accuracy: 0.9220\n",
            "Epoch 8/50\n",
            "1719/1719 [==============================] - 3s 2ms/step - loss: 0.2798 - accuracy: 0.9206 - val_loss: 0.2697 - val_accuracy: 0.9236\n",
            "Epoch 9/50\n",
            "1719/1719 [==============================] - 3s 2ms/step - loss: 0.2704 - accuracy: 0.9221 - val_loss: 0.2688 - val_accuracy: 0.9246\n",
            "Epoch 10/50\n",
            "1719/1719 [==============================] - 3s 2ms/step - loss: 0.2618 - accuracy: 0.9248 - val_loss: 0.2500 - val_accuracy: 0.9300\n",
            "Epoch 11/50\n",
            "1719/1719 [==============================] - 3s 2ms/step - loss: 0.2532 - accuracy: 0.9272 - val_loss: 0.2422 - val_accuracy: 0.9300\n",
            "Epoch 12/50\n",
            "1719/1719 [==============================] - 3s 2ms/step - loss: 0.2460 - accuracy: 0.9291 - val_loss: 0.2375 - val_accuracy: 0.9308\n",
            "Epoch 13/50\n",
            "1719/1719 [==============================] - 3s 2ms/step - loss: 0.2398 - accuracy: 0.9307 - val_loss: 0.2423 - val_accuracy: 0.9288\n",
            "Epoch 14/50\n",
            "1719/1719 [==============================] - 3s 2ms/step - loss: 0.2334 - accuracy: 0.9332 - val_loss: 0.2354 - val_accuracy: 0.9322\n",
            "Epoch 15/50\n",
            "1719/1719 [==============================] - 3s 2ms/step - loss: 0.2282 - accuracy: 0.9339 - val_loss: 0.2292 - val_accuracy: 0.9364\n",
            "Epoch 16/50\n",
            "1719/1719 [==============================] - 3s 2ms/step - loss: 0.2227 - accuracy: 0.9356 - val_loss: 0.2177 - val_accuracy: 0.9394\n",
            "Epoch 17/50\n",
            "1719/1719 [==============================] - 3s 2ms/step - loss: 0.2188 - accuracy: 0.9364 - val_loss: 0.2139 - val_accuracy: 0.9412\n",
            "Epoch 18/50\n",
            "1719/1719 [==============================] - 3s 2ms/step - loss: 0.2144 - accuracy: 0.9382 - val_loss: 0.2117 - val_accuracy: 0.9378\n",
            "Epoch 19/50\n",
            "1719/1719 [==============================] - 3s 2ms/step - loss: 0.2109 - accuracy: 0.9391 - val_loss: 0.2095 - val_accuracy: 0.9416\n",
            "Epoch 20/50\n",
            "1719/1719 [==============================] - 3s 2ms/step - loss: 0.2076 - accuracy: 0.9391 - val_loss: 0.2237 - val_accuracy: 0.9392\n",
            "Epoch 21/50\n",
            "1719/1719 [==============================] - 3s 2ms/step - loss: 0.2048 - accuracy: 0.9405 - val_loss: 0.2094 - val_accuracy: 0.9394\n",
            "Epoch 22/50\n",
            "1719/1719 [==============================] - 3s 2ms/step - loss: 0.2018 - accuracy: 0.9407 - val_loss: 0.2065 - val_accuracy: 0.9444\n",
            "Epoch 23/50\n",
            "1719/1719 [==============================] - 3s 2ms/step - loss: 0.1988 - accuracy: 0.9420 - val_loss: 0.2017 - val_accuracy: 0.9424\n",
            "Epoch 24/50\n",
            "1719/1719 [==============================] - 3s 2ms/step - loss: 0.1962 - accuracy: 0.9421 - val_loss: 0.2006 - val_accuracy: 0.9442\n",
            "Epoch 25/50\n",
            "1719/1719 [==============================] - 3s 2ms/step - loss: 0.1937 - accuracy: 0.9425 - val_loss: 0.2006 - val_accuracy: 0.9458\n",
            "Epoch 26/50\n",
            "1719/1719 [==============================] - 3s 2ms/step - loss: 0.1913 - accuracy: 0.9440 - val_loss: 0.1988 - val_accuracy: 0.9460\n",
            "Epoch 27/50\n",
            "1719/1719 [==============================] - 3s 2ms/step - loss: 0.1893 - accuracy: 0.9441 - val_loss: 0.1960 - val_accuracy: 0.9456\n",
            "Epoch 28/50\n",
            "1719/1719 [==============================] - 3s 2ms/step - loss: 0.1879 - accuracy: 0.9445 - val_loss: 0.1999 - val_accuracy: 0.9438\n",
            "Epoch 29/50\n",
            "1719/1719 [==============================] - 3s 2ms/step - loss: 0.1860 - accuracy: 0.9456 - val_loss: 0.1960 - val_accuracy: 0.9466\n",
            "Epoch 30/50\n",
            "1719/1719 [==============================] - 3s 2ms/step - loss: 0.1839 - accuracy: 0.9462 - val_loss: 0.1994 - val_accuracy: 0.9432\n",
            "Epoch 31/50\n",
            "1719/1719 [==============================] - 3s 2ms/step - loss: 0.1824 - accuracy: 0.9453 - val_loss: 0.1989 - val_accuracy: 0.9410\n",
            "Epoch 32/50\n",
            "1719/1719 [==============================] - 3s 2ms/step - loss: 0.1805 - accuracy: 0.9467 - val_loss: 0.1937 - val_accuracy: 0.9442\n",
            "Epoch 33/50\n",
            "1719/1719 [==============================] - 3s 2ms/step - loss: 0.1796 - accuracy: 0.9470 - val_loss: 0.1944 - val_accuracy: 0.9468\n",
            "Epoch 34/50\n",
            "1719/1719 [==============================] - 3s 2ms/step - loss: 0.1779 - accuracy: 0.9478 - val_loss: 0.1945 - val_accuracy: 0.9470\n",
            "Epoch 35/50\n",
            "1719/1719 [==============================] - 3s 2ms/step - loss: 0.1761 - accuracy: 0.9483 - val_loss: 0.1895 - val_accuracy: 0.9480\n",
            "Epoch 36/50\n",
            "1719/1719 [==============================] - 3s 2ms/step - loss: 0.1749 - accuracy: 0.9479 - val_loss: 0.1939 - val_accuracy: 0.9432\n",
            "Epoch 37/50\n",
            "1719/1719 [==============================] - 3s 2ms/step - loss: 0.1736 - accuracy: 0.9487 - val_loss: 0.1907 - val_accuracy: 0.9462\n",
            "Epoch 38/50\n",
            "1719/1719 [==============================] - 3s 2ms/step - loss: 0.1721 - accuracy: 0.9489 - val_loss: 0.1914 - val_accuracy: 0.9458\n",
            "Epoch 39/50\n",
            "1719/1719 [==============================] - 3s 2ms/step - loss: 0.1705 - accuracy: 0.9493 - val_loss: 0.1860 - val_accuracy: 0.9480\n",
            "Epoch 40/50\n",
            "1719/1719 [==============================] - 3s 2ms/step - loss: 0.1695 - accuracy: 0.9498 - val_loss: 0.1941 - val_accuracy: 0.9454\n",
            "Epoch 41/50\n",
            "1719/1719 [==============================] - 3s 2ms/step - loss: 0.1682 - accuracy: 0.9498 - val_loss: 0.1909 - val_accuracy: 0.9476\n",
            "Epoch 42/50\n",
            "1719/1719 [==============================] - 3s 2ms/step - loss: 0.1671 - accuracy: 0.9505 - val_loss: 0.1925 - val_accuracy: 0.9480\n",
            "Epoch 43/50\n",
            "1719/1719 [==============================] - 3s 2ms/step - loss: 0.1654 - accuracy: 0.9511 - val_loss: 0.1819 - val_accuracy: 0.9480\n",
            "Epoch 44/50\n",
            "1719/1719 [==============================] - 3s 2ms/step - loss: 0.1646 - accuracy: 0.9512 - val_loss: 0.1863 - val_accuracy: 0.9474\n",
            "Epoch 45/50\n",
            "1719/1719 [==============================] - 3s 2ms/step - loss: 0.1634 - accuracy: 0.9518 - val_loss: 0.1855 - val_accuracy: 0.9464\n",
            "Epoch 46/50\n",
            "1719/1719 [==============================] - 3s 2ms/step - loss: 0.1633 - accuracy: 0.9518 - val_loss: 0.1854 - val_accuracy: 0.9466\n",
            "Epoch 47/50\n",
            "1719/1719 [==============================] - 3s 2ms/step - loss: 0.1615 - accuracy: 0.9527 - val_loss: 0.1846 - val_accuracy: 0.9482\n",
            "Epoch 48/50\n",
            "1719/1719 [==============================] - 3s 2ms/step - loss: 0.1600 - accuracy: 0.9519 - val_loss: 0.1852 - val_accuracy: 0.9472\n",
            "Epoch 49/50\n",
            "1719/1719 [==============================] - 3s 2ms/step - loss: 0.1597 - accuracy: 0.9524 - val_loss: 0.1858 - val_accuracy: 0.9476\n",
            "Epoch 50/50\n",
            "1719/1719 [==============================] - 3s 2ms/step - loss: 0.1584 - accuracy: 0.9529 - val_loss: 0.1933 - val_accuracy: 0.9446\n"
          ]
        }
      ],
      "source": [
        "history = model.fit(x_train, y_train,                    \n",
        "                    epochs=50,                   \n",
        "                    validation_data=(x_valid, y_valid))\n"
      ]
    },
    {
      "cell_type": "code",
      "execution_count": 9,
      "metadata": {
        "colab": {
          "base_uri": "https://localhost:8080/"
        },
        "id": "3Sg7I97qmFFm",
        "outputId": "fa5c3e7a-25f3-4948-e308-25e996ba3a39"
      },
      "outputs": [
        {
          "output_type": "stream",
          "name": "stdout",
          "text": [
            "313/313 [==============================] - 0s 1ms/step - loss: 0.1990 - accuracy: 0.9417\n"
          ]
        },
        {
          "output_type": "execute_result",
          "data": {
            "text/plain": [
              "[0.19902101159095764, 0.9416999816894531]"
            ]
          },
          "metadata": {},
          "execution_count": 9
        }
      ],
      "source": [
        "# Evaluate the model on the test data. \n",
        "# The accuracy score is 94.79 percent.\n",
        "model.evaluate(X_test, y_test)"
      ]
    },
    {
      "cell_type": "code",
      "source": [
        "history.history.keys()"
      ],
      "metadata": {
        "colab": {
          "base_uri": "https://localhost:8080/"
        },
        "id": "1jA7vB_38TJL",
        "outputId": "b585e0b7-03c8-49df-b452-d87cd510c7ea"
      },
      "execution_count": 10,
      "outputs": [
        {
          "output_type": "execute_result",
          "data": {
            "text/plain": [
              "dict_keys(['loss', 'accuracy', 'val_loss', 'val_accuracy'])"
            ]
          },
          "metadata": {},
          "execution_count": 10
        }
      ]
    },
    {
      "cell_type": "code",
      "source": [
        "plt.plot(history.history['accuracy'])\n",
        "plt.plot(history.history['val_accuracy'])"
      ],
      "metadata": {
        "colab": {
          "base_uri": "https://localhost:8080/",
          "height": 282
        },
        "id": "l7TTb0yg8c5r",
        "outputId": "6fe0ef10-2e9e-4ca2-8bc7-ce7ec095daff"
      },
      "execution_count": 11,
      "outputs": [
        {
          "output_type": "execute_result",
          "data": {
            "text/plain": [
              "[<matplotlib.lines.Line2D at 0x7f7d520a6bd0>]"
            ]
          },
          "metadata": {},
          "execution_count": 11
        },
        {
          "output_type": "display_data",
          "data": {
            "image/png": "[encoded data removed]",
            "text/plain": [
              "<Figure size 432x288 with 1 Axes>"
            ]
          },
          "metadata": {
            "needs_background": "light"
          }
        }
      ]
    },
    {
      "cell_type": "code",
      "source": [
        "# Test the model and see if the predictions are correct.\n",
        "# Below example, the model predicted all 3 images correctly (digits 7,2,1)\n",
        "x_new = x_test[0:3]\n",
        "y_pred = model.predict(x_new)\n",
        "y_pred = (np.argmax(y_pred, axis=1))\n",
        "plt.imshow(x_new[0])\n",
        "plt.show()\n",
        "print(y_pred[0])\n",
        "\n",
        "plt.imshow(x_new[1])\n",
        "plt.show()\n",
        "print(y_pred[1])\n",
        "\n",
        "plt.imshow(x_new[2])\n",
        "plt.show()\n",
        "print(y_pred[2])\n"
      ],
      "metadata": {
        "colab": {
          "base_uri": "https://localhost:8080/",
          "height": 813
        },
        "id": "zNJIi_DpCSBS",
        "outputId": "ec3bd36a-963e-41c2-a4bc-477932bfd782"
      },
      "execution_count": 12,
      "outputs": [
        {
          "output_type": "display_data",
          "data": {
            "image/png": "[encoded data removed]",
            "text/plain": [
              "<Figure size 432x288 with 1 Axes>"
            ]
          },
          "metadata": {
            "needs_background": "light"
          }
        },
        {
          "output_type": "stream",
          "name": "stdout",
          "text": [
            "7\n"
          ]
        },
        {
          "output_type": "display_data",
          "data": {
            "image/png": "[encoded data removed]",
            "text/plain": [
              "<Figure size 432x288 with 1 Axes>"
            ]
          },
          "metadata": {
            "needs_background": "light"
          }
        },
        {
          "output_type": "stream",
          "name": "stdout",
          "text": [
            "2\n"
          ]
        },
        {
          "output_type": "display_data",
          "data": {
            "image/png": "[encoded data removed]",
            "text/plain": [
              "<Figure size 432x288 with 1 Axes>"
            ]
          },
          "metadata": {
            "needs_background": "light"
          }
        },
        {
          "output_type": "stream",
          "name": "stdout",
          "text": [
            "1\n"
          ]
        }
      ]
    },
    {
      "cell_type": "code",
      "source": [
        ""
      ],
      "metadata": {
        "id": "yyNfA933KhJR"
      },
      "execution_count": 12,
      "outputs": []
    }
  ],
  "metadata": {
    "kernelspec": {
      "display_name": "Python 3",
      "language": "python",
      "name": "python3"
    },
    "language_info": {
      "codemirror_mode": {
        "name": "ipython",
        "version": 3
      },
      "file_extension": ".py",
      "mimetype": "text/x-python",
      "name": "python",
      "nbconvert_exporter": "python",
      "pygments_lexer": "ipython3",
      "version": "3.7.3"
    },
    "colab": {
      "name": "mnist_DL_Keras_Lab.ipynb",
      "provenance": []
    }
  },
  "nbformat": 4,
  "nbformat_minor": 0
}